{
 "cells": [
  {
   "cell_type": "code",
   "execution_count": 1,
   "id": "94a9cb19",
   "metadata": {},
   "outputs": [],
   "source": [
    "from pyspark.sql import SparkSession"
   ]
  },
  {
   "cell_type": "code",
   "execution_count": 2,
   "id": "d8ebc150",
   "metadata": {},
   "outputs": [],
   "source": [
    "spark = SparkSession.builder.appName('DataFrame').getOrCreate()"
   ]
  },
  {
   "cell_type": "code",
   "execution_count": 3,
   "id": "95ae98c4",
   "metadata": {},
   "outputs": [
    {
     "data": {
      "text/html": [
       "\n",
       "            <div>\n",
       "                <p><b>SparkSession - in-memory</b></p>\n",
       "                \n",
       "        <div>\n",
       "            <p><b>SparkContext</b></p>\n",
       "\n",
       "            <p><a href=\"http://LAPTOP-JU2SE1S2:4041\">Spark UI</a></p>\n",
       "\n",
       "            <dl>\n",
       "              <dt>Version</dt>\n",
       "                <dd><code>v3.1.2</code></dd>\n",
       "              <dt>Master</dt>\n",
       "                <dd><code>local[*]</code></dd>\n",
       "              <dt>AppName</dt>\n",
       "                <dd><code>DataFrame</code></dd>\n",
       "            </dl>\n",
       "        </div>\n",
       "        \n",
       "            </div>\n",
       "        "
      ],
      "text/plain": [
       "<pyspark.sql.session.SparkSession at 0x1a76a8cfb50>"
      ]
     },
     "execution_count": 3,
     "metadata": {},
     "output_type": "execute_result"
    }
   ],
   "source": [
    "spark"
   ]
  },
  {
   "cell_type": "code",
   "execution_count": 10,
   "id": "070bbaeb",
   "metadata": {},
   "outputs": [],
   "source": [
    "## read the dataset\n",
    "df_pyspark = spark.read.option('header', 'true').csv(r\"C:\\Users\\JEYA KUMAR R\\Downloads\\prac.csv\", inferSchema = True)"
   ]
  },
  {
   "cell_type": "code",
   "execution_count": 11,
   "id": "cdbdd310",
   "metadata": {},
   "outputs": [
    {
     "name": "stdout",
     "output_type": "stream",
     "text": [
      "+-------------------+-----------+-----------------+------------+--------------+-------------+\n",
      "|               Name|Nationality|National_Position|National_Kit|          Club|Club_Position|\n",
      "+-------------------+-----------+-----------------+------------+--------------+-------------+\n",
      "|  Cristiano Ronaldo|   Portugal|               LS|           7|   Real Madrid|           LW|\n",
      "|       Lionel Messi|  Argentina|               RW|          10|  FC Barcelona|           RW|\n",
      "|             Neymar|     Brazil|               LW|          10|  FC Barcelona|           LW|\n",
      "|       Luis SuÃ¡rez|    Uruguay|               LS|           9|  FC Barcelona|           ST|\n",
      "|       Manuel Neuer|    Germany|               GK|           1|     FC Bayern|           GK|\n",
      "|             De Gea|      Spain|               GK|           1|Manchester Utd|           GK|\n",
      "| Robert Lewandowski|     Poland|               LS|           9|     FC Bayern|           ST|\n",
      "|        Gareth Bale|      Wales|               RS|          11|   Real Madrid|           RW|\n",
      "|Zlatan IbrahimoviÄ‡|     Sweden|             null|        null|Manchester Utd|           ST|\n",
      "|   Thibaut Courtois|    Belgium|               GK|           1|       Chelsea|           GK|\n",
      "+-------------------+-----------+-----------------+------------+--------------+-------------+\n",
      "\n"
     ]
    }
   ],
   "source": [
    "df_pyspark.show()"
   ]
  },
  {
   "cell_type": "code",
   "execution_count": 12,
   "id": "ee069ecf",
   "metadata": {},
   "outputs": [
    {
     "name": "stdout",
     "output_type": "stream",
     "text": [
      "root\n",
      " |-- Name: string (nullable = true)\n",
      " |-- Nationality: string (nullable = true)\n",
      " |-- National_Position: string (nullable = true)\n",
      " |-- National_Kit: integer (nullable = true)\n",
      " |-- Club: string (nullable = true)\n",
      " |-- Club_Position: string (nullable = true)\n",
      "\n"
     ]
    }
   ],
   "source": [
    "## Check the schema\n",
    "df_pyspark.printSchema()"
   ]
  },
  {
   "cell_type": "code",
   "execution_count": 14,
   "id": "d63c03e2",
   "metadata": {},
   "outputs": [
    {
     "name": "stdout",
     "output_type": "stream",
     "text": [
      "+-------------------+-----------+-----------------+------------+--------------+-------------+\n",
      "|               Name|Nationality|National_Position|National_Kit|          Club|Club_Position|\n",
      "+-------------------+-----------+-----------------+------------+--------------+-------------+\n",
      "|  Cristiano Ronaldo|   Portugal|               LS|           7|   Real Madrid|           LW|\n",
      "|       Lionel Messi|  Argentina|               RW|          10|  FC Barcelona|           RW|\n",
      "|             Neymar|     Brazil|               LW|          10|  FC Barcelona|           LW|\n",
      "|       Luis SuÃ¡rez|    Uruguay|               LS|           9|  FC Barcelona|           ST|\n",
      "|       Manuel Neuer|    Germany|               GK|           1|     FC Bayern|           GK|\n",
      "|             De Gea|      Spain|               GK|           1|Manchester Utd|           GK|\n",
      "| Robert Lewandowski|     Poland|               LS|           9|     FC Bayern|           ST|\n",
      "|        Gareth Bale|      Wales|               RS|          11|   Real Madrid|           RW|\n",
      "|Zlatan IbrahimoviÄ‡|     Sweden|             null|        null|Manchester Utd|           ST|\n",
      "|   Thibaut Courtois|    Belgium|               GK|           1|       Chelsea|           GK|\n",
      "+-------------------+-----------+-----------------+------------+--------------+-------------+\n",
      "\n"
     ]
    }
   ],
   "source": [
    "df_spark = spark.read.csv(r\"C:\\Users\\JEYA KUMAR R\\Downloads\\prac.csv\", header = True, inferSchema = True)\n",
    "df_spark.show()"
   ]
  },
  {
   "cell_type": "code",
   "execution_count": 15,
   "id": "51b0ecfc",
   "metadata": {},
   "outputs": [
    {
     "data": {
      "text/plain": [
       "pyspark.sql.dataframe.DataFrame"
      ]
     },
     "execution_count": 15,
     "metadata": {},
     "output_type": "execute_result"
    }
   ],
   "source": [
    "type(df_spark)"
   ]
  },
  {
   "cell_type": "code",
   "execution_count": 16,
   "id": "1dc1da24",
   "metadata": {},
   "outputs": [
    {
     "data": {
      "text/plain": [
       "['Name',\n",
       " 'Nationality',\n",
       " 'National_Position',\n",
       " 'National_Kit',\n",
       " 'Club',\n",
       " 'Club_Position']"
      ]
     },
     "execution_count": 16,
     "metadata": {},
     "output_type": "execute_result"
    }
   ],
   "source": [
    "df_spark.columns"
   ]
  },
  {
   "cell_type": "code",
   "execution_count": 17,
   "id": "e5683049",
   "metadata": {},
   "outputs": [
    {
     "data": {
      "text/plain": [
       "[Row(Name='Cristiano Ronaldo', Nationality='Portugal', National_Position='LS', National_Kit=7, Club='Real Madrid', Club_Position='LW'),\n",
       " Row(Name='Lionel Messi', Nationality='Argentina', National_Position='RW', National_Kit=10, Club='FC Barcelona', Club_Position='RW'),\n",
       " Row(Name='Neymar', Nationality='Brazil', National_Position='LW', National_Kit=10, Club='FC Barcelona', Club_Position='LW'),\n",
       " Row(Name='Luis SuÃ¡rez', Nationality='Uruguay', National_Position='LS', National_Kit=9, Club='FC Barcelona', Club_Position='ST'),\n",
       " Row(Name='Manuel Neuer', Nationality='Germany', National_Position='GK', National_Kit=1, Club='FC Bayern', Club_Position='GK')]"
      ]
     },
     "execution_count": 17,
     "metadata": {},
     "output_type": "execute_result"
    }
   ],
   "source": [
    "df_spark.head(5)"
   ]
  },
  {
   "cell_type": "code",
   "execution_count": 18,
   "id": "3211ae9c",
   "metadata": {},
   "outputs": [
    {
     "name": "stdout",
     "output_type": "stream",
     "text": [
      "+-------------------+-----------+-----------------+------------+--------------+-------------+\n",
      "|               Name|Nationality|National_Position|National_Kit|          Club|Club_Position|\n",
      "+-------------------+-----------+-----------------+------------+--------------+-------------+\n",
      "|  Cristiano Ronaldo|   Portugal|               LS|           7|   Real Madrid|           LW|\n",
      "|       Lionel Messi|  Argentina|               RW|          10|  FC Barcelona|           RW|\n",
      "|             Neymar|     Brazil|               LW|          10|  FC Barcelona|           LW|\n",
      "|       Luis SuÃ¡rez|    Uruguay|               LS|           9|  FC Barcelona|           ST|\n",
      "|       Manuel Neuer|    Germany|               GK|           1|     FC Bayern|           GK|\n",
      "|             De Gea|      Spain|               GK|           1|Manchester Utd|           GK|\n",
      "| Robert Lewandowski|     Poland|               LS|           9|     FC Bayern|           ST|\n",
      "|        Gareth Bale|      Wales|               RS|          11|   Real Madrid|           RW|\n",
      "|Zlatan IbrahimoviÄ‡|     Sweden|             null|        null|Manchester Utd|           ST|\n",
      "|   Thibaut Courtois|    Belgium|               GK|           1|       Chelsea|           GK|\n",
      "+-------------------+-----------+-----------------+------------+--------------+-------------+\n",
      "\n"
     ]
    }
   ],
   "source": [
    "df_spark.show()"
   ]
  },
  {
   "cell_type": "code",
   "execution_count": 19,
   "id": "e78c15d8",
   "metadata": {},
   "outputs": [
    {
     "data": {
      "text/plain": [
       "DataFrame[Name: string]"
      ]
     },
     "execution_count": 19,
     "metadata": {},
     "output_type": "execute_result"
    }
   ],
   "source": [
    "df_spark.select('Name')"
   ]
  },
  {
   "cell_type": "code",
   "execution_count": 20,
   "id": "0b72b81b",
   "metadata": {},
   "outputs": [
    {
     "name": "stdout",
     "output_type": "stream",
     "text": [
      "+-------------------+\n",
      "|               Name|\n",
      "+-------------------+\n",
      "|  Cristiano Ronaldo|\n",
      "|       Lionel Messi|\n",
      "|             Neymar|\n",
      "|       Luis SuÃ¡rez|\n",
      "|       Manuel Neuer|\n",
      "|             De Gea|\n",
      "| Robert Lewandowski|\n",
      "|        Gareth Bale|\n",
      "|Zlatan IbrahimoviÄ‡|\n",
      "|   Thibaut Courtois|\n",
      "+-------------------+\n",
      "\n"
     ]
    }
   ],
   "source": [
    "df_spark.select('Name').show()"
   ]
  },
  {
   "cell_type": "code",
   "execution_count": 21,
   "id": "80f24f2b",
   "metadata": {},
   "outputs": [
    {
     "data": {
      "text/plain": [
       "pyspark.sql.dataframe.DataFrame"
      ]
     },
     "execution_count": 21,
     "metadata": {},
     "output_type": "execute_result"
    }
   ],
   "source": [
    "type(df_spark.select('Name'))"
   ]
  },
  {
   "cell_type": "code",
   "execution_count": 22,
   "id": "8d4aacb0",
   "metadata": {},
   "outputs": [
    {
     "data": {
      "text/plain": [
       "DataFrame[Name: string, Nationality: string]"
      ]
     },
     "execution_count": 22,
     "metadata": {},
     "output_type": "execute_result"
    }
   ],
   "source": [
    "df_spark.select(['Name', 'Nationality'])"
   ]
  },
  {
   "cell_type": "code",
   "execution_count": 23,
   "id": "9037fb65",
   "metadata": {},
   "outputs": [
    {
     "name": "stdout",
     "output_type": "stream",
     "text": [
      "+-------------------+-----------+\n",
      "|               Name|Nationality|\n",
      "+-------------------+-----------+\n",
      "|  Cristiano Ronaldo|   Portugal|\n",
      "|       Lionel Messi|  Argentina|\n",
      "|             Neymar|     Brazil|\n",
      "|       Luis SuÃ¡rez|    Uruguay|\n",
      "|       Manuel Neuer|    Germany|\n",
      "|             De Gea|      Spain|\n",
      "| Robert Lewandowski|     Poland|\n",
      "|        Gareth Bale|      Wales|\n",
      "|Zlatan IbrahimoviÄ‡|     Sweden|\n",
      "|   Thibaut Courtois|    Belgium|\n",
      "+-------------------+-----------+\n",
      "\n"
     ]
    }
   ],
   "source": [
    "df_spark.select(['Name', 'Nationality']).show()"
   ]
  },
  {
   "cell_type": "code",
   "execution_count": 24,
   "id": "13ef8430",
   "metadata": {},
   "outputs": [
    {
     "data": {
      "text/plain": [
       "Column<'Name'>"
      ]
     },
     "execution_count": 24,
     "metadata": {},
     "output_type": "execute_result"
    }
   ],
   "source": [
    "df_spark['Name']"
   ]
  },
  {
   "cell_type": "code",
   "execution_count": 25,
   "id": "3863d547",
   "metadata": {},
   "outputs": [
    {
     "data": {
      "text/plain": [
       "[('Name', 'string'),\n",
       " ('Nationality', 'string'),\n",
       " ('National_Position', 'string'),\n",
       " ('National_Kit', 'int'),\n",
       " ('Club', 'string'),\n",
       " ('Club_Position', 'string')]"
      ]
     },
     "execution_count": 25,
     "metadata": {},
     "output_type": "execute_result"
    }
   ],
   "source": [
    "df_spark.dtypes"
   ]
  },
  {
   "cell_type": "code",
   "execution_count": 27,
   "id": "5c704cb6",
   "metadata": {},
   "outputs": [
    {
     "name": "stdout",
     "output_type": "stream",
     "text": [
      "+-------+-------------------+-----------+-----------------+-----------------+-----------+-------------+\n",
      "|summary|               Name|Nationality|National_Position|     National_Kit|       Club|Club_Position|\n",
      "+-------+-------------------+-----------+-----------------+-----------------+-----------+-------------+\n",
      "|  count|                 10|         10|                9|                9|         10|           10|\n",
      "|   mean|               null|       null|             null|6.555555555555555|       null|         null|\n",
      "| stddev|               null|       null|             null|4.304390523381652|       null|         null|\n",
      "|    min|  Cristiano Ronaldo|  Argentina|               GK|                1|    Chelsea|           GK|\n",
      "|    max|Zlatan IbrahimoviÄ‡|      Wales|               RW|               11|Real Madrid|           ST|\n",
      "+-------+-------------------+-----------+-----------------+-----------------+-----------+-------------+\n",
      "\n"
     ]
    }
   ],
   "source": [
    "df_spark.describe().show()"
   ]
  },
  {
   "cell_type": "code",
   "execution_count": 33,
   "id": "cbedd71b",
   "metadata": {},
   "outputs": [],
   "source": [
    "## Adding columns in dataframe\n",
    "\n",
    "df = df_spark.withColumn('Nation_Kit + 2', df_spark['National_Kit']+2)"
   ]
  },
  {
   "cell_type": "code",
   "execution_count": 35,
   "id": "1fb3f068",
   "metadata": {},
   "outputs": [
    {
     "name": "stdout",
     "output_type": "stream",
     "text": [
      "+-------------------+-----------+-----------------+------------+--------------+-------------+--------------+\n",
      "|               Name|Nationality|National_Position|National_Kit|          Club|Club_Position|Nation_Kit + 2|\n",
      "+-------------------+-----------+-----------------+------------+--------------+-------------+--------------+\n",
      "|  Cristiano Ronaldo|   Portugal|               LS|           7|   Real Madrid|           LW|             9|\n",
      "|       Lionel Messi|  Argentina|               RW|          10|  FC Barcelona|           RW|            12|\n",
      "|             Neymar|     Brazil|               LW|          10|  FC Barcelona|           LW|            12|\n",
      "|       Luis SuÃ¡rez|    Uruguay|               LS|           9|  FC Barcelona|           ST|            11|\n",
      "|       Manuel Neuer|    Germany|               GK|           1|     FC Bayern|           GK|             3|\n",
      "|             De Gea|      Spain|               GK|           1|Manchester Utd|           GK|             3|\n",
      "| Robert Lewandowski|     Poland|               LS|           9|     FC Bayern|           ST|            11|\n",
      "|        Gareth Bale|      Wales|               RS|          11|   Real Madrid|           RW|            13|\n",
      "|Zlatan IbrahimoviÄ‡|     Sweden|             null|        null|Manchester Utd|           ST|          null|\n",
      "|   Thibaut Courtois|    Belgium|               GK|           1|       Chelsea|           GK|             3|\n",
      "+-------------------+-----------+-----------------+------------+--------------+-------------+--------------+\n",
      "\n"
     ]
    }
   ],
   "source": [
    "df.show()"
   ]
  },
  {
   "cell_type": "code",
   "execution_count": 36,
   "id": "ffcf2b41",
   "metadata": {},
   "outputs": [],
   "source": [
    "## Drop the columns\n",
    "\n",
    "df_spark = df.drop('Nation_Kit + 2')"
   ]
  },
  {
   "cell_type": "code",
   "execution_count": 37,
   "id": "2a795233",
   "metadata": {},
   "outputs": [
    {
     "name": "stdout",
     "output_type": "stream",
     "text": [
      "+-------------------+-----------+-----------------+------------+--------------+-------------+\n",
      "|               Name|Nationality|National_Position|National_Kit|          Club|Club_Position|\n",
      "+-------------------+-----------+-----------------+------------+--------------+-------------+\n",
      "|  Cristiano Ronaldo|   Portugal|               LS|           7|   Real Madrid|           LW|\n",
      "|       Lionel Messi|  Argentina|               RW|          10|  FC Barcelona|           RW|\n",
      "|             Neymar|     Brazil|               LW|          10|  FC Barcelona|           LW|\n",
      "|       Luis SuÃ¡rez|    Uruguay|               LS|           9|  FC Barcelona|           ST|\n",
      "|       Manuel Neuer|    Germany|               GK|           1|     FC Bayern|           GK|\n",
      "|             De Gea|      Spain|               GK|           1|Manchester Utd|           GK|\n",
      "| Robert Lewandowski|     Poland|               LS|           9|     FC Bayern|           ST|\n",
      "|        Gareth Bale|      Wales|               RS|          11|   Real Madrid|           RW|\n",
      "|Zlatan IbrahimoviÄ‡|     Sweden|             null|        null|Manchester Utd|           ST|\n",
      "|   Thibaut Courtois|    Belgium|               GK|           1|       Chelsea|           GK|\n",
      "+-------------------+-----------+-----------------+------------+--------------+-------------+\n",
      "\n"
     ]
    }
   ],
   "source": [
    "df_spark.show()"
   ]
  },
  {
   "cell_type": "code",
   "execution_count": 40,
   "id": "5233142e",
   "metadata": {},
   "outputs": [
    {
     "name": "stdout",
     "output_type": "stream",
     "text": [
      "+-------------------+-----------+-----------------+------------+--------------+-------------+\n",
      "|           New Name|Nationality|National_Position|National_Kit|          Club|Club_Position|\n",
      "+-------------------+-----------+-----------------+------------+--------------+-------------+\n",
      "|  Cristiano Ronaldo|   Portugal|               LS|           7|   Real Madrid|           LW|\n",
      "|       Lionel Messi|  Argentina|               RW|          10|  FC Barcelona|           RW|\n",
      "|             Neymar|     Brazil|               LW|          10|  FC Barcelona|           LW|\n",
      "|       Luis SuÃ¡rez|    Uruguay|               LS|           9|  FC Barcelona|           ST|\n",
      "|       Manuel Neuer|    Germany|               GK|           1|     FC Bayern|           GK|\n",
      "|             De Gea|      Spain|               GK|           1|Manchester Utd|           GK|\n",
      "| Robert Lewandowski|     Poland|               LS|           9|     FC Bayern|           ST|\n",
      "|        Gareth Bale|      Wales|               RS|          11|   Real Madrid|           RW|\n",
      "|Zlatan IbrahimoviÄ‡|     Sweden|             null|        null|Manchester Utd|           ST|\n",
      "|   Thibaut Courtois|    Belgium|               GK|           1|       Chelsea|           GK|\n",
      "+-------------------+-----------+-----------------+------------+--------------+-------------+\n",
      "\n"
     ]
    }
   ],
   "source": [
    "### Rename the columns\n",
    "\n",
    "df_spark.withColumnRenamed('Name','New Name').show()"
   ]
  },
  {
   "cell_type": "code",
   "execution_count": null,
   "id": "c76c423b",
   "metadata": {},
   "outputs": [],
   "source": []
  }
 ],
 "metadata": {
  "kernelspec": {
   "display_name": "Python 3 (ipykernel)",
   "language": "python",
   "name": "python3"
  },
  "language_info": {
   "codemirror_mode": {
    "name": "ipython",
    "version": 3
   },
   "file_extension": ".py",
   "mimetype": "text/x-python",
   "name": "python",
   "nbconvert_exporter": "python",
   "pygments_lexer": "ipython3",
   "version": "3.9.7"
  }
 },
 "nbformat": 4,
 "nbformat_minor": 5
}
